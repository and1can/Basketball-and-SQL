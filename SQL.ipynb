{
 "cells": [
  {
   "cell_type": "markdown",
   "metadata": {},
   "source": [
    "# Basketball Illustrations of SQL Techniques"
   ]
  },
  {
   "cell_type": "markdown",
   "metadata": {},
   "source": [
    "We will take a look at joins, windowing, and time series processing. "
   ]
  },
  {
   "cell_type": "markdown",
   "metadata": {},
   "source": [
    "## Name Table"
   ]
  },
  {
   "cell_type": "raw",
   "metadata": {},
   "source": [
    "testdb=# select * from name;\n",
    " playerid |      name      \n",
    "----------+----------------\n",
    "        1 | Stephen Curry\n",
    "        2 | Kevin Durant\n",
    "        3 | Klay Thompson\n",
    "        4 | Draymond Green\n",
    "        5 | Andre Iguodala\n",
    "(5 rows)"
   ]
  },
  {
   "cell_type": "markdown",
   "metadata": {},
   "source": [
    "## Threes Table"
   ]
  },
  {
   "cell_type": "raw",
   "metadata": {},
   "source": [
    "testdb=# select * from threes;\n",
    " playerid | threes \n",
    "----------+--------\n",
    "        1 |    324\n",
    "        2 |    117\n",
    "        3 |    268\n",
    "        4 |     81\n",
    "        6 |     25\n",
    "(5 rows)"
   ]
  },
  {
   "cell_type": "markdown",
   "metadata": {},
   "source": [
    "# 1) Joins\n",
    "\n",
    "Joins allow users to combine data from two tables into one. "
   ]
  },
  {
   "cell_type": "markdown",
   "metadata": {},
   "source": [
    "## Inner Join\n",
    "\n",
    "Return records that have matching values in both tables. \n",
    "\n",
    "We use an inner join when we want the data where we have both the player name and number of threes they have made for a particular player. "
   ]
  },
  {
   "cell_type": "raw",
   "metadata": {},
   "source": [
    "testdb=# select * from name inner join threes on name.playerid = threes.playerid;\n",
    " playerid |      name      | playerid | threes \n",
    "----------+----------------+----------+--------\n",
    "        1 | Stephen Curry  |        1 |    324\n",
    "        2 | Kevin Durant   |        2 |    117\n",
    "        3 | Klay Thompson  |        3 |    268\n",
    "        4 | Draymond Green |        4 |     81\n",
    "(4 rows)"
   ]
  },
  {
   "cell_type": "markdown",
   "metadata": {},
   "source": [
    "## Left (Outer) Join\n",
    "Return all records from left table and matched records from the right table. \n",
    "\n",
    "We use left join to include results from inner join and results that are in name table, but does not have a match with row in threes table. Hence, Andre Iguodala is in the table. "
   ]
  },
  {
   "cell_type": "raw",
   "metadata": {},
   "source": [
    "testdb=# select * from name left join threes on name.playerid = threes.playerid; \n",
    " playerid |      name      | playerid | threes \n",
    "----------+----------------+----------+--------\n",
    "        1 | Stephen Curry  |        1 |    324\n",
    "        2 | Kevin Durant   |        2 |    117\n",
    "        3 | Klay Thompson  |        3 |    268\n",
    "        4 | Draymond Green |        4 |     81\n",
    "        5 | Andre Iguodala |          |       \n",
    "(5 rows)"
   ]
  },
  {
   "cell_type": "markdown",
   "metadata": {},
   "source": [
    "## Right (Outer) Join\n",
    "\n",
    "Return all records from right table and matched records from left table. "
   ]
  },
  {
   "cell_type": "raw",
   "metadata": {},
   "source": [
    "testdb=# select * from name right join threes on name.playerid = threes.playerid;\n",
    " playerid |      name      | playerid | threes \n",
    "----------+----------------+----------+--------\n",
    "        1 | Stephen Curry  |        1 |    324\n",
    "        2 | Kevin Durant   |        2 |    117\n",
    "        3 | Klay Thompson  |        3 |    268\n",
    "        4 | Draymond Green |        4 |     81\n",
    "          |                |        6 |     25\n",
    "(5 rows)"
   ]
  },
  {
   "cell_type": "markdown",
   "metadata": {},
   "source": [
    "## Full (Outer) Join\n",
    "\n",
    "Return all records when there is a match in either left or right table"
   ]
  },
  {
   "cell_type": "raw",
   "metadata": {},
   "source": [
    "testdb=# select * from name full outer join threes on name.playerid = threes.playerid;\n",
    " playerid |      name      | playerid | threes \n",
    "----------+----------------+----------+--------\n",
    "        1 | Stephen Curry  |        1 |    324\n",
    "        2 | Kevin Durant   |        2 |    117\n",
    "        3 | Klay Thompson  |        3 |    268\n",
    "        4 | Draymond Green |        4 |     81\n",
    "        5 | Andre Iguodala |          |       \n",
    "          |                |        6 |     25\n",
    "(6 rows)"
   ]
  },
  {
   "cell_type": "markdown",
   "metadata": {},
   "source": [
    "## Cross Join \n",
    "\n",
    "Return all records of every row of first table with every row of second table. "
   ]
  },
  {
   "cell_type": "raw",
   "metadata": {},
   "source": [
    "testdb=# select * from name cross join threes;\n",
    " playerid |      name      | playerid | threes \n",
    "----------+----------------+----------+--------\n",
    "        1 | Stephen Curry  |        1 |    324\n",
    "        2 | Kevin Durant   |        1 |    324\n",
    "        3 | Klay Thompson  |        1 |    324\n",
    "        4 | Draymond Green |        1 |    324\n",
    "        5 | Andre Iguodala |        1 |    324\n",
    "        1 | Stephen Curry  |        2 |    117\n",
    "        2 | Kevin Durant   |        2 |    117\n",
    "        3 | Klay Thompson  |        2 |    117\n",
    "        4 | Draymond Green |        2 |    117\n",
    "        5 | Andre Iguodala |        2 |    117\n",
    "        1 | Stephen Curry  |        3 |    268\n",
    "        2 | Kevin Durant   |        3 |    268\n",
    "        3 | Klay Thompson  |        3 |    268\n",
    "        4 | Draymond Green |        3 |    268\n",
    "        5 | Andre Iguodala |        3 |    268\n",
    "        1 | Stephen Curry  |        4 |     81\n",
    "        2 | Kevin Durant   |        4 |     81\n",
    "        3 | Klay Thompson  |        4 |     81\n",
    "        4 | Draymond Green |        4 |     81\n",
    "        5 | Andre Iguodala |        4 |     81\n",
    "        1 | Stephen Curry  |        6 |     25\n",
    "        2 | Kevin Durant   |        6 |     25\n",
    "        3 | Klay Thompson  |        6 |     25\n",
    "        4 | Draymond Green |        6 |     25\n",
    "        5 | Andre Iguodala |        6 |     25\n",
    "(25 rows)"
   ]
  },
  {
   "cell_type": "markdown",
   "metadata": {},
   "source": [
    "# 2) Windowing\n",
    "\n",
    "Window functions operate on set of rows and return single value for each row of underlying query. "
   ]
  },
  {
   "cell_type": "markdown",
   "metadata": {},
   "source": [
    "## Salary Table "
   ]
  },
  {
   "cell_type": "raw",
   "metadata": {},
   "source": [
    "testdb=# select * from salary;\n",
    "       name        |   team    | salary \n",
    "-------------------+-----------+--------\n",
    " Draymond Green    | Warriors  |   16.4\n",
    " Kevin Durant      | Warriors  |  26.54\n",
    " Klay Thompson     | Warriors  |   15.5\n",
    " Stephen Curry     | Warriors  |  12.11\n",
    " Lebron James      | Cavaliers |  30.96\n",
    " Kyrie Irving      | Cavaliers |  17.64\n",
    " Kevin Love        | Cavaliers |  21.17\n",
    " Gordon Hayward    | Jazz      |  15.41\n",
    " Derrick Favors    | Jazz      |  11.05\n",
    " Joe Johnson       | Jazz      |  11.00\n",
    " DeMar DeRozan     | Raptors   |  26.54\n",
    " Jonas Valanciunas | Raptors   |  14.38\n",
    " DeMarre Carroll   | Raptors   |  14.20\n",
    "(13 rows)"
   ]
  },
  {
   "cell_type": "markdown",
   "metadata": {},
   "source": [
    "Say we would like to have the average of all salaries from players within our table, salary. We would also like the result of this query to be added as a column to each of the entries within the table. Windowing can help in this case because our set of rows is the entire table and the result of our query will be added as a column. "
   ]
  },
  {
   "cell_type": "raw",
   "metadata": {},
   "source": [
    "testdb=# select *, avg(salary) over() as avgSalary from salary;\n",
    "       name        |   team    | salary |      avgsalary      \n",
    "-------------------+-----------+--------+---------------------\n",
    " Draymond Green    | Warriors  |   16.4 | 17.9153846153846154\n",
    " Kevin Durant      | Warriors  |  26.54 | 17.9153846153846154\n",
    " Klay Thompson     | Warriors  |   15.5 | 17.9153846153846154\n",
    " Stephen Curry     | Warriors  |  12.11 | 17.9153846153846154\n",
    " Lebron James      | Cavaliers |  30.96 | 17.9153846153846154\n",
    " Kyrie Irving      | Cavaliers |  17.64 | 17.9153846153846154\n",
    " Kevin Love        | Cavaliers |  21.17 | 17.9153846153846154\n",
    " Gordon Hayward    | Jazz      |  15.41 | 17.9153846153846154\n",
    " Derrick Favors    | Jazz      |  11.05 | 17.9153846153846154\n",
    " Joe Johnson       | Jazz      |  11.00 | 17.9153846153846154\n",
    " DeMar DeRozan     | Raptors   |  26.54 | 17.9153846153846154\n",
    " Jonas Valanciunas | Raptors   |  14.38 | 17.9153846153846154\n",
    " DeMarre Carroll   | Raptors   |  14.20 | 17.9153846153846154\n",
    "(13 rows)"
   ]
  },
  {
   "cell_type": "markdown",
   "metadata": {},
   "source": [
    "Say we want the average salaries of each team. We would also like the result of each of the average salaires of each team to be added as a column, teamAverage to each entry. "
   ]
  },
  {
   "cell_type": "raw",
   "metadata": {},
   "source": [
    "testdb=# select *, avg(salary) over (partition by team) as teamAverage from salary;\n",
    "       name        |   team    | salary |     teamaverage     \n",
    "-------------------+-----------+--------+---------------------\n",
    " Kevin Love        | Cavaliers |  21.17 | 23.2566666666666667\n",
    " Lebron James      | Cavaliers |  30.96 | 23.2566666666666667\n",
    " Kyrie Irving      | Cavaliers |  17.64 | 23.2566666666666667\n",
    " Joe Johnson       | Jazz      |  11.00 | 12.4866666666666667\n",
    " Derrick Favors    | Jazz      |  11.05 | 12.4866666666666667\n",
    " Gordon Hayward    | Jazz      |  15.41 | 12.4866666666666667\n",
    " DeMarre Carroll   | Raptors   |  14.20 | 18.3733333333333333\n",
    " DeMar DeRozan     | Raptors   |  26.54 | 18.3733333333333333\n",
    " Jonas Valanciunas | Raptors   |  14.38 | 18.3733333333333333\n",
    " Kevin Durant      | Warriors  |  26.54 | 17.6375000000000000\n",
    " Draymond Green    | Warriors  |   16.4 | 17.6375000000000000\n",
    " Stephen Curry     | Warriors  |  12.11 | 17.6375000000000000\n",
    " Klay Thompson     | Warriors  |   15.5 | 17.6375000000000000\n",
    "(13 rows)"
   ]
  },
  {
   "cell_type": "markdown",
   "metadata": {},
   "source": [
    "Say we want the average salaries of each team to be added as a column teamAverage like above. Suppose we would also like to know how each player's salary ranks among its teammates. "
   ]
  },
  {
   "cell_type": "raw",
   "metadata": {},
   "source": [
    "testdb=# select *, row_number()  over (partition by team order by salary desc), avg(salary) over (partition by team) as teamAverage from salary;\n",
    "       name        |   team    | salary | row_number |     teamaverage     \n",
    "-------------------+-----------+--------+------------+---------------------\n",
    " Lebron James      | Cavaliers |  30.96 |          1 | 23.2566666666666667\n",
    " Kevin Love        | Cavaliers |  21.17 |          2 | 23.2566666666666667\n",
    " Kyrie Irving      | Cavaliers |  17.64 |          3 | 23.2566666666666667\n",
    " Gordon Hayward    | Jazz      |  15.41 |          1 | 12.4866666666666667\n",
    " Derrick Favors    | Jazz      |  11.05 |          2 | 12.4866666666666667\n",
    " Joe Johnson       | Jazz      |  11.00 |          3 | 12.4866666666666667\n",
    " DeMar DeRozan     | Raptors   |  26.54 |          1 | 18.3733333333333333\n",
    " Jonas Valanciunas | Raptors   |  14.38 |          2 | 18.3733333333333333\n",
    " DeMarre Carroll   | Raptors   |  14.20 |          3 | 18.3733333333333333\n",
    " Kevin Durant      | Warriors  |  26.54 |          1 | 17.6375000000000000\n",
    " Draymond Green    | Warriors  |   16.4 |          2 | 17.6375000000000000\n",
    " Klay Thompson     | Warriors  |   15.5 |          3 | 17.6375000000000000\n",
    " Stephen Curry     | Warriors  |  12.11 |          4 | 17.6375000000000000\n",
    "(13 rows)"
   ]
  },
  {
   "cell_type": "markdown",
   "metadata": {},
   "source": [
    "Say we want to have the sum of each team's salary to be added as a column to each of the entries. "
   ]
  },
  {
   "cell_type": "raw",
   "metadata": {},
   "source": [
    "testdb=# select *, sum(salary) over(partition by team) from salary order by sum;\n",
    "       name        |   team    | salary |  sum  \n",
    "-------------------+-----------+--------+-------\n",
    " Joe Johnson       | Jazz      |  11.00 | 37.46\n",
    " Derrick Favors    | Jazz      |  11.05 | 37.46\n",
    " Gordon Hayward    | Jazz      |  15.41 | 37.46\n",
    " DeMarre Carroll   | Raptors   |  14.20 | 55.12\n",
    " DeMar DeRozan     | Raptors   |  26.54 | 55.12\n",
    " Jonas Valanciunas | Raptors   |  14.38 | 55.12\n",
    " Kevin Love        | Cavaliers |  21.17 | 69.77\n",
    " Lebron James      | Cavaliers |  30.96 | 69.77\n",
    " Kyrie Irving      | Cavaliers |  17.64 | 69.77\n",
    " Kevin Durant      | Warriors  |  26.54 | 70.55\n",
    " Draymond Green    | Warriors  |   16.4 | 70.55\n",
    " Stephen Curry     | Warriors  |  12.11 | 70.55\n",
    " Klay Thompson     | Warriors  |   15.5 | 70.55\n",
    "(13 rows)"
   ]
  },
  {
   "cell_type": "markdown",
   "metadata": {},
   "source": [
    "Say we want a new column max to be the max salary of one player from each team to be added to each entry in the table salary. "
   ]
  },
  {
   "cell_type": "raw",
   "metadata": {},
   "source": [
    "testdb=# select *, max(salary) over(partition by team) from salary order by max desc, salary desc;\n",
    "       name        |   team    | salary |  max  \n",
    "-------------------+-----------+--------+-------\n",
    " Lebron James      | Cavaliers |  30.96 | 30.96\n",
    " Kevin Love        | Cavaliers |  21.17 | 30.96\n",
    " Kyrie Irving      | Cavaliers |  17.64 | 30.96\n",
    " DeMar DeRozan     | Raptors   |  26.54 | 26.54\n",
    " Kevin Durant      | Warriors  |  26.54 | 26.54\n",
    " Draymond Green    | Warriors  |   16.4 | 26.54\n",
    " Klay Thompson     | Warriors  |   15.5 | 26.54\n",
    " Jonas Valanciunas | Raptors   |  14.38 | 26.54\n",
    " DeMarre Carroll   | Raptors   |  14.20 | 26.54\n",
    " Stephen Curry     | Warriors  |  12.11 | 26.54\n",
    " Gordon Hayward    | Jazz      |  15.41 | 15.41\n",
    " Derrick Favors    | Jazz      |  11.05 | 15.41\n",
    " Joe Johnson       | Jazz      |  11.00 | 15.41\n",
    "(13 rows)"
   ]
  },
  {
   "cell_type": "markdown",
   "metadata": {},
   "source": [
    "Suppose we want a new column, cumedist that will represent the cumulative distribution of salaries for each team. "
   ]
  },
  {
   "cell_type": "raw",
   "metadata": {},
   "source": [
    "testdb=# select *, cume_dist() over(order by salary) as cumedist from salary;\n",
    "       name        |   team    | salary |      cumedist      \n",
    "-------------------+-----------+--------+--------------------\n",
    " Joe Johnson       | Jazz      |  11.00 | 0.0769230769230769\n",
    " Derrick Favors    | Jazz      |  11.05 |  0.153846153846154\n",
    " Stephen Curry     | Warriors  |  12.11 |  0.230769230769231\n",
    " DeMarre Carroll   | Raptors   |  14.20 |  0.307692307692308\n",
    " Jonas Valanciunas | Raptors   |  14.38 |  0.384615384615385\n",
    " Gordon Hayward    | Jazz      |  15.41 |  0.461538461538462\n",
    " Klay Thompson     | Warriors  |   15.5 |  0.538461538461538\n",
    " Draymond Green    | Warriors  |   16.4 |  0.615384615384615\n",
    " Kyrie Irving      | Cavaliers |  17.64 |  0.692307692307692\n",
    " Kevin Love        | Cavaliers |  21.17 |  0.769230769230769\n",
    " DeMar DeRozan     | Raptors   |  26.54 |  0.923076923076923\n",
    " Kevin Durant      | Warriors  |  26.54 |  0.923076923076923\n",
    " Lebron James      | Cavaliers |  30.96 |                  1\n",
    "(13 rows)"
   ]
  },
  {
   "cell_type": "markdown",
   "metadata": {},
   "source": [
    "# 3) Time Series Processing"
   ]
  },
  {
   "cell_type": "raw",
   "metadata": {},
   "source": [
    "SQL Query to return what pages users came from\n",
    "\n",
    "The original table contains three columns: pid, event, and time. The pid is the user that is accessing the web page called event. Time is when the user accessed the page. The query will return a table with three columns: prev, event, and count.\n",
    "\n",
    "pid | event | time\n",
    "-----+-------+---------------------\n",
    "\n",
    "1 | A | 2016-09-23 02:21:13\n",
    "\n",
    "2 | B | 2016-09-23 03:24:13\n",
    "\n",
    "2 | C | 2016-09-23 04:21:13\n",
    "\n",
    "3 | A | 2016-09-23 05:21:13\n",
    "\n",
    "3 | B | 2016-09-23 02:21:13\n",
    "\n",
    "1 | B | 2016-09-23 04:21:13\n",
    "\n",
    "Prev is the web page that the user was on before clicking to enter web page in event. Count is how many times a user made a transition from the web page in prev to the web page in event.\n",
    "\n",
    "prev | event | count\n",
    "\n",
    "------+-------+-------\n",
    "\n",
    "B | A | 1\n",
    "\n",
    "A | B | 1\n",
    "\n",
    "B | C | 1"
   ]
  },
  {
   "cell_type": "code",
   "execution_count": null,
   "metadata": {
    "collapsed": true
   },
   "outputs": [],
   "source": [
    "create view t3 as (\n",
    "select\n",
    "    rank() over (order by pid, time),\n",
    "    pid, event, time\n",
    "from test5);\n",
    "\n",
    "select e1.prev, e1.event, count(*) \n",
    "from \n",
    "    eventtransitions as e1,\n",
    "    (select a1.rank as r1,\n",
    "        a2.rank as r2,\n",
    "        a1.event as a1_event,\n",
    "        a2.event as a2_event,\n",
    "        a1.pid as a1_pid,\n",
    "        a2.pid as a2_pid\n",
    "    from t3 as a1, t3 as a2) as temp\n",
    "where r1 = r2-1\n",
    "and e1.event = a2_event\n",
    "and e1.prev = a1_event\n",
    "and a1_pid = a2_pid\n",
    "group by e1.prev, e1.event;"
   ]
  }
 ],
 "metadata": {
  "kernelspec": {
   "display_name": "Python 3",
   "language": "python",
   "name": "python3"
  },
  "language_info": {
   "codemirror_mode": {
    "name": "ipython",
    "version": 3
   },
   "file_extension": ".py",
   "mimetype": "text/x-python",
   "name": "python",
   "nbconvert_exporter": "python",
   "pygments_lexer": "ipython3",
   "version": "3.5.0"
  }
 },
 "nbformat": 4,
 "nbformat_minor": 2
}
